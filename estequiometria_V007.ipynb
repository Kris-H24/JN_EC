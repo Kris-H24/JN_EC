{
 "cells": [
  {
   "cell_type": "code",
   "execution_count": 4,
   "id": "a7a2866a-6047-4001-90f5-99c4a5ee994c",
   "metadata": {},
   "outputs": [],
   "source": [
    "import ipywidgets as widgets\n",
    "from IPython.display import display\n",
    "import numpy as np\n",
    "import pandas as pd\n",
    "#from ipysheet import sheet, column, to_dataframe"
   ]
  },
  {
   "cell_type": "code",
   "execution_count": 5,
   "id": "770d9fa7-8411-445f-bd0e-27afe460f6b9",
   "metadata": {},
   "outputs": [],
   "source": [
    "#!jupyter nbextension enable --py widgetsnbextension --sys-prefix\n",
    "#!jupyter serverextension enable voila --sys-prefix"
   ]
  },
  {
   "cell_type": "code",
   "execution_count": 6,
   "id": "4001052d-0e03-4bbc-9eb7-87ba834f05ca",
   "metadata": {},
   "outputs": [],
   "source": [
    "def create_Text(value):\n",
    "    return widgets.Text(\n",
    "    value=value,\n",
    "    placeholder='Type something',\n",
    "    #description='String:',\n",
    "    disabled=False,\n",
    "    layout=Layout(width='auto', height='auto')\n",
    ")"
   ]
  },
  {
   "cell_type": "code",
   "execution_count": 13,
   "id": "cfb4c6dd-2bbd-4be6-908b-46706335b6ff",
   "metadata": {},
   "outputs": [],
   "source": [
    "def create_grid(xw,yw):\n",
    "    global xg\n",
    "    global yg\n",
    "    global M\n",
    "    global V\n",
    "    global VC\n",
    "    global iM\n",
    "    global atomsL\n",
    "    x = xw + 1\n",
    "    y = yw + 1\n",
    "    iM = np.arange(x*y).reshape((x,y))+1\n",
    "    #print(xg,xw,x)\n",
    "    matrix_Config(xw,yw)\n",
    "    xg = xw\n",
    "    yg = yw\n",
    "    \n",
    "\n",
    "    grid = widgets.GridspecLayout(x, y, layout=widgets.Layout(width='auto', height='auto'))#height=\"100%\",width=\"100%\")\n",
    "    #grid[0,0] = create_Int_Text(M[0,0])\n",
    "    #grid[1,0] = create_Int_Text(M[1,0])\n",
    "    \n",
    "    for i in range(x):#2,x):\n",
    "        for j in range(y):\n",
    "            if j == 0 and i == 0:#2:\n",
    "                grid[i,j] = widgets.Label(value='C\\E',align_self='center')#r'\\(e=mc^2\\)')\n",
    "            elif i == 0:#2:\n",
    "                grid[i,j] = widgets.Dropdown(\n",
    "                                options=atomsL,\n",
    "                                value=V[j-1],\n",
    "                                #description='Number:',\n",
    "                                layout=widgets.Layout(width='auto', height='auto')\n",
    "                            )#create_Dropdown(V[j-1])\n",
    "            elif j == 0:\n",
    "                grid[i,j] = widgets.Text(\n",
    "                                value=VC[i-1],\n",
    "                                placeholder='Type something',\n",
    "                                #description='String:',\n",
    "                                disabled=False,\n",
    "                                layout=widgets.Layout(width='auto', height='auto')\n",
    "                            )\n",
    "            else:\n",
    "                grid[i, j] = widgets.FloatText(\n",
    "                                value=M[i-1,j-1],\n",
    "                                #description='Any:',\n",
    "                                disabled=False,\n",
    "                                layout=widgets.Layout(width='auto', height='auto')\n",
    "                            )#create_Int_Text(M[i-1,j-1])\n",
    "    display(grid)           \n",
    "    #out = widgets.interactive_output(f, {grid})            \n",
    "    return grid"
   ]
  },
  {
   "cell_type": "code",
   "execution_count": 14,
   "id": "82b22adf-ff6c-4248-9cf1-b572d77b4e04",
   "metadata": {},
   "outputs": [],
   "source": [
    "def event_1(v):\n",
    "    for child2 in Mi.result.children:\n",
    "        child2.observe(event_2, names = 'value')\n",
    "    output.clear_output()\n",
    "    with output:\n",
    "        display(M,V)\n",
    "        #print('caca'+str(v))\n",
    "    return\n",
    "\n",
    "def matrix_Config(xw,yw):\n",
    "    global M\n",
    "    global V\n",
    "    global VC\n",
    "    if xg < xw:\n",
    "        M = np.vstack((M,np.zeros(yw)))\n",
    "        VC = np.hstack((VC,['Compuesto {}'.format(VC.size+1)]))\n",
    "    elif xg > xw:\n",
    "        M = M[:xw,:]\n",
    "        VC = VC[:xw]\n",
    "    elif yg < yw:\n",
    "        M = np.hstack((M,np.zeros([xw,1])))\n",
    "        V = np.hstack((V,np.ones(1)))\n",
    "    elif yg > yw:\n",
    "        M = M[:,:yw]\n",
    "        V = V[:yw]\n",
    "    return"
   ]
  },
  {
   "cell_type": "code",
   "execution_count": 15,
   "id": "6d35a1ab-5195-49c3-81b4-40d4e4bbc58f",
   "metadata": {},
   "outputs": [],
   "source": [
    "def event_2(v):\n",
    "    num = \"\"\n",
    "    for c in v.owner.layout.grid_area:\n",
    "        if c.isdigit():\n",
    "            num = num + c\n",
    "    if int(num) in iM[:1,1:]:\n",
    "        V[int(num)-2]=int(v.owner.value)\n",
    "    elif int(num) in iM[1:,1:]:\n",
    "        M[np.where(iM[1:,1:]==int(num))]=float(v.owner.value)\n",
    "    elif int(num) in iM[1:,:1]:\n",
    "        VC[np.where(iM[1:,:1]==int(num))[0]]=v.owner.value\n",
    "    output.clear_output()\n",
    "    with output:\n",
    "        display(M,V) \n",
    "        #print('caca'+str(v),v.owner.layout.grid_area,int(num),v.owner.value)\n",
    "    return"
   ]
  },
  {
   "cell_type": "code",
   "execution_count": 16,
   "id": "04a74b2d-8070-467f-89c5-c86024235997",
   "metadata": {},
   "outputs": [],
   "source": [
    "def peso_muestra(v):\n",
    "    global P\n",
    "    P = v['new']\n",
    "def calcular(obj):\n",
    "    global P\n",
    "    global aW\n",
    "    global M\n",
    "    global V\n",
    "    global VC\n",
    "    #----------Definiciones------------\n",
    "    #Número de cationes\n",
    "    Nc = np.size(V)-2\n",
    "    \n",
    "    #Matriz de compuestos\n",
    "    ##_-_-_-_-_-_-_-|B|P|S|L|K|T|C|O|\n",
    "    ##_-_-_-_-_-_-_-|a|b|r|a|-|i|-|-|\n",
    "    ##_-_-_-_-_-_-_-|-|-|-|-|-|-|-|-|\n",
    "    #MC = np.array([[1,0,0,0,0,0,1,3]   #BaCO3\n",
    "    #              ,[0,1,0,0,0,0,0,1]   #PbO\n",
    "    #              ,[0,0,1,0,0,0,1,3]   #SrCO3\n",
    "    #              ,[0,0,0,2,0,0,0,3]   #La2O3\n",
    "    #              ,[0,0,0,0,2,0,1,3]   #K2CO3\n",
    "    #              ,[0,0,0,0,0,1,0,2]     #TiO2\n",
    "    #              ,[1/5,1/5,1/5,1/5,1/5,1,0,3]])     #Ba1/5 Pb1/5 Sr1/5 La1/5 K1/5 Ti O3\n",
    "    #_-_-_-_-_-_-_-|Ba-|Pb-|Sr-|La-|K--|T|C|O|\n",
    "    #_-_-_-_-_-_-_-|---|---|---|---|---|i|-|-|\n",
    "    MC = M\n",
    "    #sMC = np.shape(MC)\n",
    "\n",
    "    #Elementos ([#numero atomico])\n",
    "    #_-_-_-_-_-_-_|Ba|Pb|Sr|La|K-|Ti|C|O|\n",
    "    #NE = np.array([56,82,38,57,19,22,6,8])\n",
    "    NE = V.astype(int)\n",
    "\n",
    "    #Vector de pesos atomicos\n",
    "    VPa = aW[NE-1,1]\n",
    "\n",
    "    #Vector de peso molecular\n",
    "    VPm = MC@VPa\n",
    "\n",
    "    #----------Estequiometria----------------\n",
    "\n",
    "    #Matriz molar de reactivos\n",
    "    #Para obtener 1 mol de un átomo ¿cuantos moles de cada reactivo se necesitan?\n",
    "    MMr = (1/(MC[0:Nc,0:Nc]+np.ones([Nc,Nc])-np.identity(Nc)))-(np.ones([Nc,Nc])-np.identity(Nc))\n",
    "\n",
    "    #Vector molar de producto\n",
    "    VMp = MC[Nc,0:Nc]\n",
    "\n",
    "    #Vector molar de reactivos balanceados\n",
    "    VMrb = MMr@VMp\n",
    "\n",
    "    #Vector de proporción peso reactivo / peso producto\n",
    "\n",
    "    Vrp = VPm[0:Nc]/VPm[Nc]\n",
    "\n",
    "    #Cantidad de producto\n",
    "\n",
    "    #P = 1\n",
    "\n",
    "    #Pureza\n",
    "    #_-_-_-_-_-_-_-_-|Ba---|Pb---|Sr---|La---|K-----|Ti---|\n",
    "    #Assay = np.array([99.98,99.99,99.90,99.90,99.997,99.80])\n",
    "\n",
    "    #Cantidad de reactivo\n",
    "    CR = VMrb*Vrp*P\n",
    "    #Cantidad de reactivo con pureza\n",
    "    #CRp = VMrb*Vrp*P*(100/Assay)\n",
    "    DF = pd.DataFrame(CR,index=VC[:np.size(VC)-1],columns=['Masa R. (g)'])\n",
    "    output.clear_output()\n",
    "    with output:\n",
    "        #print('Calcular')\n",
    "        display(M,V,CR,DF)\n",
    "    return"
   ]
  },
  {
   "cell_type": "code",
   "execution_count": 17,
   "id": "833a309d-cae8-457d-b79e-07d2c156e13c",
   "metadata": {},
   "outputs": [],
   "source": [
    "aW = np.loadtxt(fname = \"atomicWeight.txt\",delimiter=\"\\t\")\n",
    "atoms = np.loadtxt(fname = \"atoms.txt\",delimiter=\"\\t\",dtype={'names': ('element', 'number', 'weight'),'formats': (\"U12\", 'i4', 'f8')})\n",
    "atomsL = atoms[['element','number']].tolist()\n",
    "xg=7\n",
    "yg=8\n",
    "#M = np.zeros([xg,yg],dtype=np.float64)\n",
    "M = np.array([[1,0,0,0,0,0,1,3]   #BaCO3\n",
    "              ,[0,1,0,0,0,0,0,1]   #PbO\n",
    "              ,[0,0,1,0,0,0,1,3]   #SrCO3\n",
    "              ,[0,0,0,2,0,0,0,3]   #La2O3\n",
    "              ,[0,0,0,0,2,0,1,3]   #K2CO3\n",
    "              ,[0,0,0,0,0,1,0,2]     #TiO2\n",
    "              ,[1/5,1/5,1/5,1/5,1/5,1,0,3]])     #Ba1/5 Pb1/5 Sr1/5 La1/5 K1/5 Ti O3\n",
    "#V = np.ones([yg])\n",
    "V =  np.array([56,82,38,57,19,22,6,8])\n",
    "#VC =  np.array(['Compuesto {}'.format(i) for i in range(1, xg+1)])\n",
    "VC = np.array(['BaCO3','PbO','SrCO3','La2O3','K2CO3','TiO2','Ba1/5 Pb1/5 Sr1/5 La1/5 K1/5 Ti O3'])\n",
    "P = 1"
   ]
  },
  {
   "cell_type": "code",
   "execution_count": 18,
   "id": "bba55068-4f55-4419-93d2-7f86a7730c34",
   "metadata": {},
   "outputs": [
    {
     "data": {
      "application/vnd.jupyter.widget-view+json": {
       "model_id": "b92dda03fe64471ea5bb153981a24c4a",
       "version_major": 2,
       "version_minor": 0
      },
      "text/plain": [
       "interactive(children=(BoundedIntText(value=7, description='#Compuestos', max=10, min=1), BoundedIntText(value=…"
      ]
     },
     "metadata": {},
     "output_type": "display_data"
    },
    {
     "data": {
      "application/vnd.jupyter.widget-view+json": {
       "model_id": "591cde797cc346b38f187ccb11e20ee0",
       "version_major": 2,
       "version_minor": 0
      },
      "text/plain": [
       "FloatText(value=1.0, description='Peso de muestra')"
      ]
     },
     "metadata": {},
     "output_type": "display_data"
    },
    {
     "data": {
      "application/vnd.jupyter.widget-view+json": {
       "model_id": "63783b522c164b069aee486e0fc83ffc",
       "version_major": 2,
       "version_minor": 0
      },
      "text/plain": [
       "Button(description='Calcular', style=ButtonStyle())"
      ]
     },
     "metadata": {},
     "output_type": "display_data"
    },
    {
     "data": {
      "application/vnd.jupyter.widget-view+json": {
       "model_id": "95ff4704c1334323bfc01aea6f8a5159",
       "version_major": 2,
       "version_minor": 0
      },
      "text/plain": [
       "Output()"
      ]
     },
     "metadata": {},
     "output_type": "display_data"
    }
   ],
   "source": [
    "output = widgets.Output()\n",
    "Mi = widgets.interactive(create_grid,xw=widgets.BoundedIntText(\n",
    "    value=7,\n",
    "    min=1,\n",
    "    max=10,\n",
    "    step=1,\n",
    "    description='#Compuestos',\n",
    "    disabled=False\n",
    "),yw=widgets.BoundedIntText(\n",
    "    value=8,\n",
    "    min=1,\n",
    "    max=10,\n",
    "    step=1,\n",
    "    description='#Elementos',\n",
    "    disabled=False\n",
    "))\n",
    "Pm=widgets.FloatText(\n",
    "    value=1,\n",
    "    description='Peso de muestra',\n",
    "    disabled=False\n",
    ")\n",
    "Bc = widgets.Button(\n",
    "    description='Calcular',\n",
    "    disabled=False\n",
    ")\n",
    "\n",
    "Pm.value = P\n",
    "Mi.children[0].value=xg\n",
    "Mi.children[1].value=yg\n",
    "display(Mi,Pm,Bc,output)\n",
    "\n",
    "Pm.observe(peso_muestra, names='value')\n",
    "for child1 in Mi.children:\n",
    "    child1.observe(event_1, names = 'value')\n",
    "for child2 in Mi.result.children:\n",
    "    child2.observe(event_2, names = 'value')\n",
    "Bc.on_click(calcular)"
   ]
  },
  {
   "cell_type": "code",
   "execution_count": 21,
   "id": "8892dcd1-c4d1-4e8f-97a3-f318b6c69fb6",
   "metadata": {},
   "outputs": [],
   "source": [
    "!pip freeze > requirements.txt"
   ]
  },
  {
   "cell_type": "code",
   "execution_count": null,
   "id": "f8dd5177",
   "metadata": {},
   "outputs": [],
   "source": []
  }
 ],
 "metadata": {
  "kernelspec": {
   "display_name": "Python 3 (ipykernel)",
   "language": "python",
   "name": "python3"
  },
  "language_info": {
   "codemirror_mode": {
    "name": "ipython",
    "version": 3
   },
   "file_extension": ".py",
   "mimetype": "text/x-python",
   "name": "python",
   "nbconvert_exporter": "python",
   "pygments_lexer": "ipython3",
   "version": "3.10.4"
  }
 },
 "nbformat": 4,
 "nbformat_minor": 5
}
